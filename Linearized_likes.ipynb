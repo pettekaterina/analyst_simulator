{
 "cells": [
  {
   "cell_type": "markdown",
   "id": "bc09a4b5-393f-453d-a514-f26534502814",
   "metadata": {},
   "source": [
    "Задача:\n",
    "1. Проанализируйте тест между группами 0 и 3 по метрике линеаризованных лайков. Видно ли отличие? Стало ли 𝑝−𝑣𝑎𝑙𝑢𝑒 меньше по сравнению с обычным CTR?\n",
    "2. Проанализируйте тест между группами 1 и 2 по метрике линеаризованных лайков. Видно ли отличие? Стало ли 𝑝−𝑣𝑎𝑙𝑢𝑒 меньше по сравнению с обычным CTR?\n",
    "Данные берём в том же диапазоне, в котором проводился АБ-тест. Эксперимент проходил с 2023-07-30 по 2023-08-05 включительно"
   ]
  },
  {
   "cell_type": "code",
   "execution_count": 88,
   "id": "d59cbc06-7c72-4dbd-8c46-266b590c1fe9",
   "metadata": {},
   "outputs": [],
   "source": [
    "# загрузка библиотек\n",
    "import pandahouse \n",
    "import pandas as pd\n",
    "import numpy as np\n",
    "import seaborn as sns\n",
    "import scipy.stats as stats"
   ]
  },
  {
   "cell_type": "markdown",
   "id": "46d39c29-90a9-4e0f-a8b5-0592bbab64ed",
   "metadata": {},
   "source": [
    "1. Проведем анализ 0 и 3 групп"
   ]
  },
  {
   "cell_type": "code",
   "execution_count": 89,
   "id": "6e667f47-6b16-424d-8100-64a0da60adf3",
   "metadata": {},
   "outputs": [
    {
     "data": {
      "text/html": [
       "<div>\n",
       "<style scoped>\n",
       "    .dataframe tbody tr th:only-of-type {\n",
       "        vertical-align: middle;\n",
       "    }\n",
       "\n",
       "    .dataframe tbody tr th {\n",
       "        vertical-align: top;\n",
       "    }\n",
       "\n",
       "    .dataframe thead th {\n",
       "        text-align: right;\n",
       "    }\n",
       "</style>\n",
       "<table border=\"1\" class=\"dataframe\">\n",
       "  <thead>\n",
       "    <tr style=\"text-align: right;\">\n",
       "      <th></th>\n",
       "      <th>exp_group</th>\n",
       "      <th>user_id</th>\n",
       "      <th>likes</th>\n",
       "      <th>views</th>\n",
       "      <th>ctr</th>\n",
       "    </tr>\n",
       "  </thead>\n",
       "  <tbody>\n",
       "    <tr>\n",
       "      <th>0</th>\n",
       "      <td>3</td>\n",
       "      <td>115383</td>\n",
       "      <td>12</td>\n",
       "      <td>44</td>\n",
       "      <td>0.272727</td>\n",
       "    </tr>\n",
       "    <tr>\n",
       "      <th>1</th>\n",
       "      <td>3</td>\n",
       "      <td>123580</td>\n",
       "      <td>2</td>\n",
       "      <td>11</td>\n",
       "      <td>0.181818</td>\n",
       "    </tr>\n",
       "    <tr>\n",
       "      <th>2</th>\n",
       "      <td>0</td>\n",
       "      <td>4944</td>\n",
       "      <td>8</td>\n",
       "      <td>41</td>\n",
       "      <td>0.195122</td>\n",
       "    </tr>\n",
       "    <tr>\n",
       "      <th>3</th>\n",
       "      <td>0</td>\n",
       "      <td>4504</td>\n",
       "      <td>5</td>\n",
       "      <td>15</td>\n",
       "      <td>0.333333</td>\n",
       "    </tr>\n",
       "    <tr>\n",
       "      <th>4</th>\n",
       "      <td>0</td>\n",
       "      <td>121508</td>\n",
       "      <td>6</td>\n",
       "      <td>25</td>\n",
       "      <td>0.240000</td>\n",
       "    </tr>\n",
       "  </tbody>\n",
       "</table>\n",
       "</div>"
      ],
      "text/plain": [
       "   exp_group  user_id  likes  views       ctr\n",
       "0          3   115383     12     44  0.272727\n",
       "1          3   123580      2     11  0.181818\n",
       "2          0     4944      8     41  0.195122\n",
       "3          0     4504      5     15  0.333333\n",
       "4          0   121508      6     25  0.240000"
      ]
     },
     "execution_count": 89,
     "metadata": {},
     "output_type": "execute_result"
    }
   ],
   "source": [
    "# Загрузка датасета \n",
    "connection = {\n",
    "    'host': 'https://clickhouse.lab.karpov.courses',\n",
    "    'password': 'dpo_python_2020',\n",
    "    'user': 'student',\n",
    "    'database': 'simulator_20230820'\n",
    "}\n",
    "\n",
    "q = \"\"\"\n",
    "SELECT exp_group, \n",
    "    user_id,\n",
    "    sum(action = 'like') as likes,\n",
    "    sum(action = 'view') as views,\n",
    "    likes/views as ctr\n",
    "FROM {db}.feed_actions \n",
    "WHERE toDate(time) between '2023-07-30' and '2023-08-05'\n",
    "     and exp_group in (0,3)\n",
    "GROUP BY exp_group, user_id\n",
    "\"\"\"\n",
    "\n",
    "df = pandahouse.read_clickhouse(q, connection=connection)\n",
    "df.head()"
   ]
  },
  {
   "cell_type": "code",
   "execution_count": 90,
   "id": "f2379ddf-496d-4394-8c58-8ae97d148783",
   "metadata": {},
   "outputs": [
    {
     "data": {
      "image/png": "[encoded data removed]",
      "text/plain": [
       "<Figure size 720x576 with 1 Axes>"
      ]
     },
     "metadata": {},
     "output_type": "display_data"
    }
   ],
   "source": [
    "# Построим графики в seaborn для сравнения распределения ctr обеих групп\n",
    "sns.set(rc={'figure.figsize':(10,8)})\n",
    "\n",
    "groups = sns.histplot(data = df, \n",
    "              x='ctr', \n",
    "              hue='exp_group', \n",
    "              palette = ['r', 'b'],\n",
    "              alpha=0.5,\n",
    "              kde=False)"
   ]
  },
  {
   "cell_type": "code",
   "execution_count": 91,
   "id": "f047a5a8-fb76-4ec0-9d52-0d0a2d06773e",
   "metadata": {},
   "outputs": [
    {
     "data": {
      "text/plain": [
       "Ttest_indResult(statistic=-13.935320516755773, pvalue=6.216047483062228e-44)"
      ]
     },
     "execution_count": 91,
     "metadata": {},
     "output_type": "execute_result"
    }
   ],
   "source": [
    "# т-тест для метрики ctr\n",
    "stats.ttest_ind(df[df.exp_group == 0].ctr,\n",
    "                df[df.exp_group == 3].ctr,\n",
    "                equal_var=False)"
   ]
  },
  {
   "cell_type": "code",
   "execution_count": 92,
   "id": "39ad67dd-c977-4d48-b31a-7b1d8d2a90ce",
   "metadata": {},
   "outputs": [],
   "source": [
    "# расчет контрольного ctr\n",
    "ctr_control_1 = df[df.exp_group == 0].likes.sum() / df[df.exp_group == 0].views.sum()"
   ]
  },
  {
   "cell_type": "code",
   "execution_count": 93,
   "id": "aa3840b0-ec17-4ff9-9340-8eabd157f0ea",
   "metadata": {},
   "outputs": [
    {
     "data": {
      "text/plain": [
       "0.20983799195924746"
      ]
     },
     "execution_count": 93,
     "metadata": {},
     "output_type": "execute_result"
    }
   ],
   "source": [
    "# посмотрим что он из себя представляет\n",
    "ctr_control_1 "
   ]
  },
  {
   "cell_type": "code",
   "execution_count": 94,
   "id": "eaceac6e-ce2a-4a39-bb11-02ae049220f8",
   "metadata": {},
   "outputs": [],
   "source": [
    "# расчет поюзерной метрики  𝑙𝑖𝑛𝑒𝑎𝑟𝑖𝑧𝑒𝑑_𝑙𝑖𝑘𝑒𝑠=𝑙𝑖𝑘𝑒𝑠−𝐶𝑇𝑅𝑐𝑜𝑛𝑡𝑟𝑜𝑙∗𝑣𝑖𝑒𝑤𝑠\n",
    "df['lin_likes'] = df.likes - ctr_control_1 * df.views"
   ]
  },
  {
   "cell_type": "code",
   "execution_count": 95,
   "id": "9f9de1d2-499c-4aaa-83e2-b003d1e4b2fe",
   "metadata": {},
   "outputs": [
    {
     "data": {
      "image/png": "[encoded data removed]",
      "text/plain": [
       "<Figure size 720x576 with 1 Axes>"
      ]
     },
     "metadata": {},
     "output_type": "display_data"
    }
   ],
   "source": [
    "# Построим графики в seaborn для сравнения распределения 𝑙𝑖𝑛𝑒𝑎𝑟𝑖𝑧𝑒𝑑_𝑙𝑖𝑘𝑒𝑠 в обеих группах\n",
    "sns.set(rc={'figure.figsize':(10,8)})\n",
    "\n",
    "groups = sns.histplot(data = df, \n",
    "              x='lin_likes', \n",
    "              hue='exp_group', \n",
    "              palette = ['r', 'b'],\n",
    "              alpha=0.5,\n",
    "              kde=False)"
   ]
  },
  {
   "cell_type": "code",
   "execution_count": 96,
   "id": "984f1132-01de-4b9c-875c-faf6b4b40125",
   "metadata": {},
   "outputs": [
    {
     "data": {
      "text/plain": [
       "Ttest_indResult(statistic=-16.186230032932844, pvalue=1.4918137745326139e-58)"
      ]
     },
     "execution_count": 96,
     "metadata": {},
     "output_type": "execute_result"
    }
   ],
   "source": [
    "# проведение т-теста для 𝑙𝑖𝑛𝑒𝑎𝑟𝑖𝑧𝑒𝑑_𝑙𝑖𝑘𝑒𝑠\n",
    "stats.ttest_ind(df[df.exp_group == 0].lin_likes,\n",
    "                df[df.exp_group == 3].lin_likes,\n",
    "                equal_var=False)"
   ]
  },
  {
   "cell_type": "markdown",
   "id": "a4744f6d-6a40-4564-a8af-b900e94b7e3c",
   "metadata": {},
   "source": [
    "Вывод:\n",
    "Провела т-тест для метрик ctr и linearized_likes, округленный pvalue в первом случае 6.21e-44, во втором - 1.49e-58. Результаты обоих тестов говорят о том, что есть основание отклонить нулевую гипотезу о равенстве средних. Для метрики linearized_likes значение pvalue меньше, что говорит о том, что при использование данной метрики снижается ошибка первого рода (вероятность отклонить верную нулевую гипотезу)."
   ]
  },
  {
   "cell_type": "markdown",
   "id": "fba38df8-2b1d-40c4-ae54-5a54a446955c",
   "metadata": {},
   "source": [
    "2. Проведем аналих 1 и 2 групп"
   ]
  },
  {
   "cell_type": "code",
   "execution_count": 97,
   "id": "36e9901d-4a15-4352-b089-e11fb0131c53",
   "metadata": {},
   "outputs": [
    {
     "data": {
      "text/html": [
       "<div>\n",
       "<style scoped>\n",
       "    .dataframe tbody tr th:only-of-type {\n",
       "        vertical-align: middle;\n",
       "    }\n",
       "\n",
       "    .dataframe tbody tr th {\n",
       "        vertical-align: top;\n",
       "    }\n",
       "\n",
       "    .dataframe thead th {\n",
       "        text-align: right;\n",
       "    }\n",
       "</style>\n",
       "<table border=\"1\" class=\"dataframe\">\n",
       "  <thead>\n",
       "    <tr style=\"text-align: right;\">\n",
       "      <th></th>\n",
       "      <th>exp_group</th>\n",
       "      <th>user_id</th>\n",
       "      <th>likes</th>\n",
       "      <th>views</th>\n",
       "      <th>ctr</th>\n",
       "    </tr>\n",
       "  </thead>\n",
       "  <tbody>\n",
       "    <tr>\n",
       "      <th>0</th>\n",
       "      <td>1</td>\n",
       "      <td>109963</td>\n",
       "      <td>3</td>\n",
       "      <td>15</td>\n",
       "      <td>0.200000</td>\n",
       "    </tr>\n",
       "    <tr>\n",
       "      <th>1</th>\n",
       "      <td>1</td>\n",
       "      <td>26117</td>\n",
       "      <td>32</td>\n",
       "      <td>141</td>\n",
       "      <td>0.226950</td>\n",
       "    </tr>\n",
       "    <tr>\n",
       "      <th>2</th>\n",
       "      <td>1</td>\n",
       "      <td>138232</td>\n",
       "      <td>18</td>\n",
       "      <td>73</td>\n",
       "      <td>0.246575</td>\n",
       "    </tr>\n",
       "    <tr>\n",
       "      <th>3</th>\n",
       "      <td>1</td>\n",
       "      <td>18392</td>\n",
       "      <td>7</td>\n",
       "      <td>32</td>\n",
       "      <td>0.218750</td>\n",
       "    </tr>\n",
       "    <tr>\n",
       "      <th>4</th>\n",
       "      <td>1</td>\n",
       "      <td>26295</td>\n",
       "      <td>39</td>\n",
       "      <td>141</td>\n",
       "      <td>0.276596</td>\n",
       "    </tr>\n",
       "  </tbody>\n",
       "</table>\n",
       "</div>"
      ],
      "text/plain": [
       "   exp_group  user_id  likes  views       ctr\n",
       "0          1   109963      3     15  0.200000\n",
       "1          1    26117     32    141  0.226950\n",
       "2          1   138232     18     73  0.246575\n",
       "3          1    18392      7     32  0.218750\n",
       "4          1    26295     39    141  0.276596"
      ]
     },
     "execution_count": 97,
     "metadata": {},
     "output_type": "execute_result"
    }
   ],
   "source": [
    "# Загрузка датасета \n",
    "connection = {\n",
    "    'host': 'https://clickhouse.lab.karpov.courses',\n",
    "    'password': 'dpo_python_2020',\n",
    "    'user': 'student',\n",
    "    'database': 'simulator_20230820'\n",
    "}\n",
    "\n",
    "q = \"\"\"\n",
    "SELECT exp_group, \n",
    "    user_id,\n",
    "    sum(action = 'like') as likes,\n",
    "    sum(action = 'view') as views,\n",
    "    likes/views as ctr\n",
    "FROM {db}.feed_actions \n",
    "WHERE toDate(time) between '2023-07-30' and '2023-08-05'\n",
    "    and exp_group in (1,2)\n",
    "GROUP BY exp_group, user_id\n",
    "\"\"\"\n",
    "\n",
    "df1 = pandahouse.read_clickhouse(q, connection=connection)\n",
    "df1.head()"
   ]
  },
  {
   "cell_type": "code",
   "execution_count": 98,
   "id": "ab1c059d-2ed1-48c7-bd29-b4c0f4109610",
   "metadata": {},
   "outputs": [
    {
     "data": {
      "image/png": "[encoded data removed]",
      "text/plain": [
       "<Figure size 720x576 with 1 Axes>"
      ]
     },
     "metadata": {},
     "output_type": "display_data"
    }
   ],
   "source": [
    "# Построим графики в seaborn для сравнения распределения ctr обеих групп \n",
    "sns.set(rc={'figure.figsize':(10,8)})\n",
    "\n",
    "groups = sns.histplot(data = df1, \n",
    "              x='ctr', \n",
    "              hue='exp_group', \n",
    "              palette = ['r', 'b'],\n",
    "              alpha=0.5,\n",
    "              kde=False)"
   ]
  },
  {
   "cell_type": "code",
   "execution_count": 99,
   "id": "89979410-7151-4e48-85b5-c92f8297b3ef",
   "metadata": {},
   "outputs": [
    {
     "data": {
      "text/plain": [
       "Ttest_indResult(statistic=0.4051491913112757, pvalue=0.685373331140751)"
      ]
     },
     "execution_count": 99,
     "metadata": {},
     "output_type": "execute_result"
    }
   ],
   "source": [
    "# т-тест для метрики ctr\n",
    "stats.ttest_ind(df1[df1.exp_group == 1].ctr,\n",
    "                df1[df1.exp_group == 2].ctr,\n",
    "                equal_var=False)"
   ]
  },
  {
   "cell_type": "code",
   "execution_count": 100,
   "id": "4a8120e8-9392-4a20-97b4-a1ca45eb2540",
   "metadata": {},
   "outputs": [
    {
     "data": {
      "text/plain": [
       "0.21281090113942747"
      ]
     },
     "execution_count": 100,
     "metadata": {},
     "output_type": "execute_result"
    }
   ],
   "source": [
    "# расчет контрольного ctr\n",
    "ctr_control_2 = df1[df1.exp_group == 1].likes.sum() / df1[df1.exp_group == 2].views.sum()\n",
    "ctr_control_2"
   ]
  },
  {
   "cell_type": "code",
   "execution_count": 101,
   "id": "24a5f6c1-70bf-4353-b6b4-f344ebfa856c",
   "metadata": {},
   "outputs": [],
   "source": [
    "# расчет поюзерной метрики  𝑙𝑖𝑛𝑒𝑎𝑟𝑖𝑧𝑒𝑑_𝑙𝑖𝑘𝑒𝑠 = 𝑙𝑖𝑘𝑒𝑠 − 𝐶𝑇𝑅𝑐𝑜𝑛𝑡𝑟𝑜𝑙 ∗ 𝑣𝑖𝑒𝑤𝑠\n",
    "df1['lin_likes'] = df1.likes - ctr_control_2 * df.views"
   ]
  },
  {
   "cell_type": "code",
   "execution_count": 103,
   "id": "4a6f30b2-342f-4905-9274-8b4a98a19a02",
   "metadata": {},
   "outputs": [
    {
     "data": {
      "text/plain": [
       "0        -6.363680\n",
       "1        29.659080\n",
       "2         9.274753\n",
       "3         3.807836\n",
       "4        33.679727\n",
       "           ...    \n",
       "19892    -4.469029\n",
       "19893    -5.599250\n",
       "19894    39.233458\n",
       "19895     2.741670\n",
       "19896    -1.640545\n",
       "Name: lin_likes, Length: 19897, dtype: float64"
      ]
     },
     "execution_count": 103,
     "metadata": {},
     "output_type": "execute_result"
    }
   ],
   "source": [
    " # смотрим что получилось\n",
    "df1['lin_likes']"
   ]
  },
  {
   "cell_type": "code",
   "execution_count": null,
   "id": "0b2b22ea-780a-446f-990e-6e0332247b2f",
   "metadata": {},
   "outputs": [],
   "source": [
    "# Построим графики в seaborn для сравнения распределения 𝑙𝑖𝑛𝑒𝑎𝑟𝑖𝑧𝑒𝑑_𝑙𝑖𝑘𝑒𝑠 обеих групп\n",
    "sns.set(rc={'figure.figsize':(10,8)})\n",
    "\n",
    "groups = sns.histplot(data = df1, \n",
    "              x='lin_likes', \n",
    "              hue='exp_group', \n",
    "              palette = ['r', 'b'],\n",
    "              alpha=0.5,\n",
    "              kde=False)"
   ]
  },
  {
   "cell_type": "code",
   "execution_count": null,
   "id": "5d037004-0352-455c-97bf-e3691d34496b",
   "metadata": {},
   "outputs": [],
   "source": [
    "# т-тест\n",
    "stats.ttest_ind(df1[df1.exp_group == 1].lin_likes,\n",
    "                df1[df1.exp_group == 2].lin_likes,\n",
    "                equal_var=False)"
   ]
  },
  {
   "cell_type": "markdown",
   "id": "c8379cf5-db7e-4f59-a4f4-eb343c73b3cb",
   "metadata": {},
   "source": [
    "Вывод:\n",
    "Во-первых хочется отметить характер распределения для метрик ctr и linearized_likes: если распределение ctr для 2 группы бимодально и отличается от нормального, то linearized_likes для этой же группы имеет нормальное распределение, таким образом, результат т-теста для метрики ctr не имеет статистической ценности, в то время как для метрики linearized_likes применение этого метода анализа обосновано.\n",
    "Так как по условию задания необходимо сравнить значения pvalue, то так и сделаю:\n",
    "для ctr это 0.6854, а для linearized_likes - 0.0008. Если делать выводы только по значению pvalue, не учитывая характер распределения метрик, то выводы будут диаметрально противоположными: по значению pvalue для ctr принимается нулевая гипотеза о равенстве средних, а для linearized_likes нулевая гипотеза отклоняется и принимается альтернативная: средние групп не равны.\n",
    "Использование метрик-отношений, которой и является метрика linearized_likes, обосновано, если основная метрика имеет распределение, отличное от нормального."
   ]
  }
 ],
 "metadata": {
  "kernelspec": {
   "display_name": "Python 3 (ipykernel)",
   "language": "python",
   "name": "python3"
  },
  "language_info": {
   "codemirror_mode": {
    "name": "ipython",
    "version": 3
   },
   "file_extension": ".py",
   "mimetype": "text/x-python",
   "name": "python",
   "nbconvert_exporter": "python",
   "pygments_lexer": "ipython3",
   "version": "3.8.10"
  }
 },
 "nbformat": 4,
 "nbformat_minor": 5
}
