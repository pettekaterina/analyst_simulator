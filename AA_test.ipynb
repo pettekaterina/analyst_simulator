{
 "cells": [
  {
   "cell_type": "markdown",
   "id": "9290a959-b02f-4c86-9365-e2a3cfea5702",
   "metadata": {},
   "source": [
    "Условие:\n",
    "У нас есть данные А/А-теста с '2023-07-23' по '2023-07-29'. Вам нужно сделать симуляцию, как будто мы провели 10000 А/А-тестов. \n",
    "На каждой итерации вам нужно сформировать подвыборки без повторения в 500 юзеров из 2 и 3 экспериментальной группы. \n",
    "Провести сравнение этих подвыборок t-testом.\n",
    "1. Построить гистограмму распределения получившихся 10000 p-values.\n",
    "2. Посчитать, какой процент p values оказался меньше либо равен 0.05\n",
    "3. Написать вывод по проведенному А/А-тесту, корректно ли работает наша система сплитования.\n",
    "4. Пришлите ссылку на merge request c проведенным анализом."
   ]
  },
  {
   "cell_type": "markdown",
   "id": "e8808ecf-5491-4a77-ae4d-37b0bd12a894",
   "metadata": {},
   "source": [
    "За нулевую гипотезу примем, что распределение ключевой метрики в обеих группах одинаково, альтернативная гипотеза: распределение ключевой метрики в обеих группах отличается.\n",
    "Принимаем p_value < 0.05"
   ]
  },
  {
   "cell_type": "code",
   "execution_count": 1,
   "id": "c7063e7f-0a50-4c59-bddb-ce2cc50c5261",
   "metadata": {},
   "outputs": [],
   "source": [
    "import pandahouse \n",
    "import pandas as pd\n",
    "import numpy as np\n",
    "import seaborn as sns\n",
    "import scipy.stats as stats"
   ]
  },
  {
   "cell_type": "code",
   "execution_count": 2,
   "id": "1167629e-cf3b-437a-86b0-884e57c3179d",
   "metadata": {},
   "outputs": [
    {
     "data": {
      "text/html": [
       "<div>\n",
       "<style scoped>\n",
       "    .dataframe tbody tr th:only-of-type {\n",
       "        vertical-align: middle;\n",
       "    }\n",
       "\n",
       "    .dataframe tbody tr th {\n",
       "        vertical-align: top;\n",
       "    }\n",
       "\n",
       "    .dataframe thead th {\n",
       "        text-align: right;\n",
       "    }\n",
       "</style>\n",
       "<table border=\"1\" class=\"dataframe\">\n",
       "  <thead>\n",
       "    <tr style=\"text-align: right;\">\n",
       "      <th></th>\n",
       "      <th>user_id</th>\n",
       "      <th>likes</th>\n",
       "      <th>views</th>\n",
       "      <th>ctr</th>\n",
       "    </tr>\n",
       "    <tr>\n",
       "      <th>exp_group</th>\n",
       "      <th></th>\n",
       "      <th></th>\n",
       "      <th></th>\n",
       "      <th></th>\n",
       "    </tr>\n",
       "  </thead>\n",
       "  <tbody>\n",
       "    <tr>\n",
       "      <th>2</th>\n",
       "      <td>8362</td>\n",
       "      <td>8362</td>\n",
       "      <td>8362</td>\n",
       "      <td>8362</td>\n",
       "    </tr>\n",
       "    <tr>\n",
       "      <th>3</th>\n",
       "      <td>8425</td>\n",
       "      <td>8425</td>\n",
       "      <td>8425</td>\n",
       "      <td>8425</td>\n",
       "    </tr>\n",
       "  </tbody>\n",
       "</table>\n",
       "</div>"
      ],
      "text/plain": [
       "           user_id  likes  views   ctr\n",
       "exp_group                             \n",
       "2             8362   8362   8362  8362\n",
       "3             8425   8425   8425  8425"
      ]
     },
     "execution_count": 2,
     "metadata": {},
     "output_type": "execute_result"
    }
   ],
   "source": [
    "# Загрузка датасета за заданный промежуток времени для 2 и 3 групп и сравнение распределения признаков\n",
    "connection = {\n",
    "    'host': 'https://clickhouse.lab.karpov.courses',\n",
    "    'password': 'dpo_python_2020',\n",
    "    'user': 'student',\n",
    "    'database': 'simulator_20230820'\n",
    "}\n",
    "\n",
    "q = \"\"\"\n",
    "SELECT exp_group, \n",
    "    user_id,\n",
    "    sum(action = 'like') as likes,\n",
    "    sum(action = 'view') as views,\n",
    "    likes/views as ctr\n",
    "FROM {db}.feed_actions \n",
    "WHERE toDate(time) between '2023-07-23' and '2023-07-29'\n",
    "    and exp_group in (2,3)\n",
    "GROUP BY exp_group, user_id\n",
    "\"\"\"\n",
    "\n",
    "df1 = pandahouse.read_clickhouse(q, connection=connection)\n",
    "\n",
    "df1.groupby('exp_group').count()"
   ]
  },
  {
   "cell_type": "markdown",
   "id": "35f8725e-e51c-4d31-8a7d-7b0af655835c",
   "metadata": {},
   "source": [
    "Видим, что группы примерно равны как по количеству уникальных пользователей, так и по другим признакам"
   ]
  },
  {
   "cell_type": "code",
   "execution_count": 3,
   "id": "205c8aa2-5d91-4497-a19d-64d92caa2ef0",
   "metadata": {},
   "outputs": [
    {
     "data": {
      "text/html": [
       "<div>\n",
       "<style scoped>\n",
       "    .dataframe tbody tr th:only-of-type {\n",
       "        vertical-align: middle;\n",
       "    }\n",
       "\n",
       "    .dataframe tbody tr th {\n",
       "        vertical-align: top;\n",
       "    }\n",
       "\n",
       "    .dataframe thead th {\n",
       "        text-align: right;\n",
       "    }\n",
       "</style>\n",
       "<table border=\"1\" class=\"dataframe\">\n",
       "  <thead>\n",
       "    <tr style=\"text-align: right;\">\n",
       "      <th></th>\n",
       "      <th>exp_group</th>\n",
       "      <th>user_id</th>\n",
       "      <th>likes</th>\n",
       "      <th>views</th>\n",
       "      <th>ctr</th>\n",
       "    </tr>\n",
       "  </thead>\n",
       "  <tbody>\n",
       "    <tr>\n",
       "      <th>0</th>\n",
       "      <td>3</td>\n",
       "      <td>115383</td>\n",
       "      <td>38</td>\n",
       "      <td>248</td>\n",
       "      <td>0.153226</td>\n",
       "    </tr>\n",
       "    <tr>\n",
       "      <th>1</th>\n",
       "      <td>3</td>\n",
       "      <td>10326</td>\n",
       "      <td>24</td>\n",
       "      <td>132</td>\n",
       "      <td>0.181818</td>\n",
       "    </tr>\n",
       "    <tr>\n",
       "      <th>2</th>\n",
       "      <td>3</td>\n",
       "      <td>123580</td>\n",
       "      <td>25</td>\n",
       "      <td>122</td>\n",
       "      <td>0.204918</td>\n",
       "    </tr>\n",
       "    <tr>\n",
       "      <th>3</th>\n",
       "      <td>2</td>\n",
       "      <td>131473</td>\n",
       "      <td>19</td>\n",
       "      <td>98</td>\n",
       "      <td>0.193878</td>\n",
       "    </tr>\n",
       "    <tr>\n",
       "      <th>4</th>\n",
       "      <td>2</td>\n",
       "      <td>23985</td>\n",
       "      <td>12</td>\n",
       "      <td>44</td>\n",
       "      <td>0.272727</td>\n",
       "    </tr>\n",
       "  </tbody>\n",
       "</table>\n",
       "</div>"
      ],
      "text/plain": [
       "   exp_group  user_id  likes  views       ctr\n",
       "0          3   115383     38    248  0.153226\n",
       "1          3    10326     24    132  0.181818\n",
       "2          3   123580     25    122  0.204918\n",
       "3          2   131473     19     98  0.193878\n",
       "4          2    23985     12     44  0.272727"
      ]
     },
     "execution_count": 3,
     "metadata": {},
     "output_type": "execute_result"
    }
   ],
   "source": [
    "df1.head()"
   ]
  },
  {
   "cell_type": "code",
   "execution_count": 4,
   "id": "9dbf396f-8741-4c34-b938-823c4983681a",
   "metadata": {},
   "outputs": [
    {
     "data": {
      "image/png": "[encoded data removed]",
      "text/plain": [
       "<Figure size 432x288 with 1 Axes>"
      ]
     },
     "metadata": {
      "needs_background": "light"
     },
     "output_type": "display_data"
    }
   ],
   "source": [
    "# Сделаем графики в seaborn для сравнения распределения ctr обеих групп\n",
    "sns.set(rc={'figure.figsize':(11.7,8.27)})\n",
    "\n",
    "groups = sns.histplot(data = df1, \n",
    "              x='ctr', \n",
    "              hue='exp_group', \n",
    "              palette = ['r', 'b'],\n",
    "              alpha=0.5,\n",
    "              kde=False)"
   ]
  },
  {
   "cell_type": "code",
   "execution_count": 5,
   "id": "d4e5d2c9-a402-4584-a57a-c3f56cc4fef2",
   "metadata": {},
   "outputs": [
    {
     "name": "stdout",
     "output_type": "stream",
     "text": [
      "       exp_group  user_id  likes  views       ctr\n",
      "3              2   131473     19     98  0.193878\n",
      "4              2    23985     12     44  0.272727\n",
      "5              2    24523      2     10  0.200000\n",
      "6              2    24239     10     41  0.243902\n",
      "8              2   127588     14     87  0.160920\n",
      "...          ...      ...    ...    ...       ...\n",
      "16780          2    25071      5     15  0.333333\n",
      "16781          2    17146     23    194  0.118557\n",
      "16783          2    25383      2     18  0.111111\n",
      "16785          2   108927     16     51  0.313725\n",
      "16786          2    17310     24     75  0.320000\n",
      "\n",
      "[8362 rows x 5 columns]\n"
     ]
    }
   ],
   "source": [
    "# выделяю в отдельный датафрейм user_id в группе №2\n",
    "group_2 = df1[df1['exp_group'] == 2]\n",
    "print(group_2)"
   ]
  },
  {
   "cell_type": "code",
   "execution_count": 6,
   "id": "1815aaef-b00d-44de-909b-10c55ae52574",
   "metadata": {},
   "outputs": [
    {
     "name": "stdout",
     "output_type": "stream",
     "text": [
      "       exp_group  user_id  likes  views       ctr\n",
      "0              3   115383     38    248  0.153226\n",
      "1              3    10326     24    132  0.181818\n",
      "2              3   123580     25    122  0.204918\n",
      "7              3    19647      4     31  0.129032\n",
      "12             3   107670     17     94  0.180851\n",
      "...          ...      ...    ...    ...       ...\n",
      "16774          3   122758     18     85  0.211765\n",
      "16777          3    13781      6     35  0.171429\n",
      "16778          3   130651     10     75  0.133333\n",
      "16782          3   122008     20    123  0.162602\n",
      "16784          3   122190     15     56  0.267857\n",
      "\n",
      "[8425 rows x 5 columns]\n"
     ]
    }
   ],
   "source": [
    "# выделяю в отдельный датафрейм user_id в группе №3\n",
    "group_3 = df1[df1['exp_group'] == 3]\n",
    "print(group_3)"
   ]
  },
  {
   "cell_type": "code",
   "execution_count": 7,
   "id": "0e580cdd-d2cf-41b0-a56f-8ce4adbbbee7",
   "metadata": {},
   "outputs": [
    {
     "data": {
      "text/plain": [
       "<Axes: ylabel='Count'>"
      ]
     },
     "execution_count": 7,
     "metadata": {},
     "output_type": "execute_result"
    },
    {
     "data": {
      "image/png": "[encoded data removed]",
      "text/plain": [
       "<Figure size 432x288 with 1 Axes>"
      ]
     },
     "metadata": {
      "needs_background": "light"
     },
     "output_type": "display_data"
    }
   ],
   "source": [
    " pvalues = []\n",
    "\n",
    "for i in range(10000):\n",
    "    i, pvalue = stats.ttest_ind(group_2.ctr.sample(500, replace = False),\n",
    "                             group_3.ctr.sample(500, replace = False),\n",
    "                                                    equal_var=False)\n",
    "    pvalues.append(pvalue)\n",
    "\n",
    "sns.histplot(pvalues)"
   ]
  },
  {
   "cell_type": "code",
   "execution_count": 8,
   "id": "7e0687c1-aa28-421a-9fc7-2b02c94f6f2d",
   "metadata": {},
   "outputs": [
    {
     "data": {
      "text/plain": [
       "0.0487"
      ]
     },
     "execution_count": 8,
     "metadata": {},
     "output_type": "execute_result"
    }
   ],
   "source": [
    " alpha = 0.05\n",
    "\n",
    "sum(float(num) <= alpha for num in pvalues) / len(pvalues) "
   ]
  },
  {
   "cell_type": "markdown",
   "id": "481ac0e3-1780-4c0b-9571-fdc52729c1fa",
   "metadata": {},
   "source": [
    "По результату расчета 0,0487 всех  p-values оказался меньше либо равен 0.05, что говорит о том, что выборки могут отличаться с вероятностью 0,0468 , что меньшн 0,05 уровня значимости, принятого нами. \n",
    "Не оснований отклонить нулевую гипотезу."
   ]
  }
 ],
 "metadata": {
  "kernelspec": {
   "display_name": "Python 3 (ipykernel)",
   "language": "python",
   "name": "python3"
  },
  "language_info": {
   "codemirror_mode": {
    "name": "ipython",
    "version": 3
   },
   "file_extension": ".py",
   "mimetype": "text/x-python",
   "name": "python",
   "nbconvert_exporter": "python",
   "pygments_lexer": "ipython3",
   "version": "3.8.10"
  }
 },
 "nbformat": 4,
 "nbformat_minor": 5
}
